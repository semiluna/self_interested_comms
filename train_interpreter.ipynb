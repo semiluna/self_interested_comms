{
 "cells": [
  {
   "cell_type": "code",
   "execution_count": null,
   "metadata": {},
   "outputs": [],
   "source": [
    "import torch\n",
    "from torch.utils.data import DataLoader, IterableDataset\n",
    "import pickle\n",
    "import math\n",
    "import random \n",
    "import numpy as np\n",
    "\n",
    "X = 1\n",
    "Y = 0\n",
    "\n",
    "ROW = 0\n",
    "COL = 1\n",
    "\n",
    "def local_frame(m, output_shape, pose, fill=0):\n",
    "    half_out_shape = np.array(output_shape)\n",
    "    padded = np.pad(m,([half_out_shape[Y]]*2,[half_out_shape[X]]*2), mode='constant', constant_values=fill)\n",
    "    return padded[pose[Y]:pose[Y] + output_shape[Y], pose[X]:pose[X] + output_shape[Y]]\n",
    "\n",
    "\n",
    "class CoverageDataset(IterableDataset):\n",
    "    def __init__(\n",
    "            self, dataset, max_len=None, shuffle=False):\n",
    "        with open(dataset, 'rb') as handle:\n",
    "            data_list = pickle.load(handle)\n",
    "        self.dataset = data_list\n",
    "        self.max_len = max_len\n",
    "        self.shuffle = shuffle\n",
    "\n",
    "    def __iter__(self):\n",
    "        length = len(self.dataset)\n",
    "        if self.max_len:\n",
    "            length = min(length, self.max_len)\n",
    "        indices = list(range(length))\n",
    "        worker_info = torch.utils.data.get_worker_info()\n",
    "        if worker_info is None:\n",
    "            gen = self._dataset_generator(indices)\n",
    "        else:  \n",
    "            per_worker = int(math.ceil(length / float(worker_info.num_workers)))\n",
    "            worker_id = worker_info.id\n",
    "            iter_start = worker_id * per_worker\n",
    "            iter_end = min(iter_start + per_worker, length)\n",
    "            gen = self._dataset_generator(indices[iter_start:iter_end])\n",
    "        return gen\n",
    "    \n",
    "    def _dataset_generator(self, indices):\n",
    "        if self.shuffle:\n",
    "            random.shuffle(indices)\n",
    "        for idx in indices:\n",
    "            item = self.dataset[idx]\n",
    "            n_agents = len(item['obs']['agents'])\n",
    "            for a_id in range(n_agents):\n",
    "                agent_state = item['obs']['agents'][a_id]['map']\n",
    "                agent_pos = item['obs']['agents'][a_id]['pos']\n",
    "                agent_obs = item['feats'][a_id]\n",
    "                obs_map = agent_state[..., 0]\n",
    "                obs_cov = agent_state[..., 1]\n",
    "                label = torch.stack([obs_map, obs_cov], axis=0)\n",
    "\n",
    "                weight = torch.ones_like(obs_map.shape)\n",
    "                weight = local_frame(weight, obs_map.shape, agent_pos, fill=0)\n",
    "                weight = np.stack([weight] * 2, axis=0)\n",
    "\n",
    "                yield {'x': agent_obs, 'w': weight, 'y': label}\n",
    "\n",
    "        \n",
    "\n"
   ]
  }
 ],
 "metadata": {
  "kernelspec": {
   "display_name": "Python 3.9.16 ('r255-python3.9')",
   "language": "python",
   "name": "python3"
  },
  "language_info": {
   "name": "python",
   "version": "3.9.16"
  },
  "orig_nbformat": 4,
  "vscode": {
   "interpreter": {
    "hash": "8ed05f8b92c56f0342ad25b8defc96f9252172144b900eb98b59946b838159dc"
   }
  }
 },
 "nbformat": 4,
 "nbformat_minor": 2
}
