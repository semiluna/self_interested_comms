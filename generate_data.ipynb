{
 "cells": [
  {
   "cell_type": "code",
   "execution_count": 1,
   "metadata": {},
   "outputs": [],
   "source": [
    "high_comms = '/Users/antoniaboca/vs_code/R255/self_interested_comms/results/MultiPPOTrainer_2023-03-12_01-18-20/MultiPPOTrainer_coverage_c6baf_00000_0_2023-03-12_01-18-20/checkpoint_000900'\n",
    "high_no_comms = '/Users/antoniaboca/vs_code/R255/self_interested_comms/results/MultiPPOTrainer_2023-03-12_03-58-40/MultiPPOTrainer_coverage_2ce12_00000_0_2023-03-12_03-58-41/checkpoint_000900'\n",
    "low_comms = '/Users/antoniaboca/vs_code/R255/self_interested_comms/results/MultiPPOTrainer_2023-03-12_18-08-39/MultiPPOTrainer_coverage_ea8ac_00000_0_2023-03-12_18-08-39/checkpoint_000900'\n",
    "low_no_comms = '/Users/antoniaboca/vs_code/R255/self_interested_comms/results/MultiPPOTrainer_2023-03-12_18-11-22/MultiPPOTrainer_coverage_4b8bb_00000_0_2023-03-12_18-11-22/checkpoint_000900'\n"
   ]
  },
  {
   "cell_type": "code",
   "execution_count": 2,
   "metadata": {},
   "outputs": [
    {
     "name": "stderr",
     "output_type": "stream",
     "text": [
      "/Users/antoniaboca/miniconda3/envs/r255-python3.9/lib/python3.9/site-packages/tqdm/auto.py:21: TqdmWarning: IProgress not found. Please update jupyter and ipywidgets. See https://ipywidgets.readthedocs.io/en/stable/user_install.html\n",
      "  from .autonotebook import tqdm as notebook_tqdm\n"
     ]
    }
   ],
   "source": [
    "import torch"
   ]
  },
  {
   "cell_type": "code",
   "execution_count": 45,
   "metadata": {},
   "outputs": [],
   "source": [
    "import pickle\n",
    "with open('comms_dataset.pkl', 'rb') as handle:\n",
    "    comms_dataset = pickle.load(handle)"
   ]
  },
  {
   "cell_type": "code",
   "execution_count": 46,
   "metadata": {},
   "outputs": [],
   "source": [
    "from interpreter import CoverageDataset\n",
    "from torch.utils.data import DataLoader\n",
    "comms_dataset = CoverageDataset('comms_dataset.pkl')"
   ]
  },
  {
   "cell_type": "code",
   "execution_count": 12,
   "metadata": {},
   "outputs": [],
   "source": [
    "comms_dataset = samples"
   ]
  },
  {
   "cell_type": "code",
   "execution_count": 21,
   "metadata": {},
   "outputs": [],
   "source": [
    "example = get_xth_agent(0, 0)"
   ]
  },
  {
   "cell_type": "code",
   "execution_count": 22,
   "metadata": {},
   "outputs": [
    {
     "data": {
      "text/plain": [
       "<All keys matched successfully>"
      ]
     },
     "execution_count": 22,
     "metadata": {},
     "output_type": "execute_result"
    }
   ],
   "source": [
    "from interpreter import Interpreter\n",
    "import torch\n",
    "\n",
    "interpreter = Interpreter(example['x'].shape[1], 1e-4)\n",
    "interpreter.load_state_dict(torch.load('r255-marl/tom9fewi/checkpoints/epoch=78-step=493750.ckpt')['state_dict'])"
   ]
  },
  {
   "cell_type": "code",
   "execution_count": 17,
   "metadata": {},
   "outputs": [],
   "source": [
    "import numpy as np\n",
    "\n",
    "X = 1\n",
    "Y = 0\n",
    "\n",
    "ROW = 0\n",
    "COL = 1\n",
    "\n",
    "def local_frame(m, output_shape, pose, fill=0):\n",
    "    half_out_shape = np.array(output_shape)\n",
    "    padded = np.pad(m,([half_out_shape[Y]]*2,[half_out_shape[X]]*2), mode='constant', constant_values=fill)\n",
    "    return torch.tensor(padded[pose[Y]:pose[Y] + output_shape[Y], pose[X]:pose[X] + output_shape[Y]])\n"
   ]
  },
  {
   "cell_type": "code",
   "execution_count": 15,
   "metadata": {},
   "outputs": [],
   "source": [
    "import colorsys\n",
    "def generate_color(agent_id):\n",
    "            # Scale the agent ID to the range [0, 1]\n",
    "            normalized_id = agent_id / 8 + 0.1\n",
    "            \n",
    "            # Use the HSV color space to generate a color\n",
    "            hue = normalized_id\n",
    "            saturation = 0.8\n",
    "            value = 0.8\n",
    "            r, g, b = colorsys.hsv_to_rgb(hue, saturation, value)\n",
    "            \n",
    "            # Convert the RGB color to a hex string\n",
    "            hex_color = '#{:02x}{:02x}{:02x}'.format(int(r * 255), int(g * 255), int(b * 255))\n",
    "            \n",
    "            return hex_color"
   ]
  },
  {
   "cell_type": "code",
   "execution_count": 14,
   "metadata": {},
   "outputs": [],
   "source": [
    "def _agent_generator(item):\n",
    "    n_agents = len(item['obs']['agents'])\n",
    "    for a_id in range(n_agents):\n",
    "        agent_state = item['obs']['agents'][a_id]['map']\n",
    "        agent_pos = item['obs']['agents'][a_id]['pos']\n",
    "        agent_obs = item['feats'][a_id]\n",
    "        obs_map = torch.tensor(agent_state[..., 0])\n",
    "        obs_cov = torch.tensor(agent_state[..., 1])\n",
    "        label = torch.stack([obs_map, obs_cov], axis=0)\n",
    "\n",
    "        weight = torch.ones_like(obs_map)\n",
    "        weight = local_frame(weight, obs_map.shape, agent_pos, fill=0)\n",
    "        weight = torch.stack([weight] * 2, axis=0)\n",
    "\n",
    "        yield {'x': agent_obs.unsqueeze(0), 'w': weight.unsqueeze(0), 'y': label.unsqueeze(0), 'obs': item['obs']}"
   ]
  },
  {
   "cell_type": "code",
   "execution_count": 16,
   "metadata": {},
   "outputs": [],
   "source": [
    "def get_composite_ground_truth(agent_id, sample):\n",
    "    feats = sample['x']\n",
    "    maps = sample['y']\n",
    "    maps = maps.squeeze(0)\n",
    "    obs_map = maps[0, ...]\n",
    "    cov_map = maps[1, ...]\n",
    "    \n",
    "    total_map = 5 * obs_map + agent_id * cov_map\n",
    "    total_map[total_map >= 6] = 5\n",
    "    return total_map\n",
    "\n",
    "def get_composite_predicted(agent_id, sample):\n",
    "    obs_map, cov_map = interpreter.forward(sample)\n",
    "    obs_map = obs_map.squeeze(0).squeeze(0)\n",
    "    cov_map = cov_map.squeeze(0).squeeze(0)\n",
    "\n",
    "    # obs_comp = torch.fill(obs_map, 6)\n",
    "    # obs_comp[obs_map > 0.7] = 5.0\n",
    "    # obs_comp[obs_map < 0.3] = 0.0\n",
    "\n",
    "    # cov_comp = torch.fill(cov_map, 6)\n",
    "    # cov_comp[cov_map > 0.6] = agent_id\n",
    "    # cov_comp[cov_map < 0.10] = 0.0\n",
    "\n",
    "    return obs_map, cov_map\n",
    "\n",
    "def get_composite_global(sample):\n",
    "    coverage = sample['state'][:, :, 1]\n",
    "    maps = sample['state'][:, :, 0]\n",
    "    mapcov= coverage + 5 * maps\n",
    "    for agent in sample['agents']:\n",
    "        pos = agent['pos']\n",
    "        mapcov[pos[0]][pos[1]] = 6\n",
    "    return mapcov\n",
    "\n",
    "\n"
   ]
  },
  {
   "cell_type": "code",
   "execution_count": 20,
   "metadata": {},
   "outputs": [],
   "source": [
    "comms_dataset = samples"
   ]
  },
  {
   "cell_type": "code",
   "execution_count": 19,
   "metadata": {},
   "outputs": [],
   "source": [
    "\n",
    "def get_agents_gen(iter):\n",
    "    return _agent_generator(comms_dataset[iter])\n",
    "\n",
    "def get_xth_agent(iter, agent_id):\n",
    "    gen = get_agents_gen(iter)\n",
    "    agent = next(gen)\n",
    "    for idx in range(agent_id):\n",
    "        agent = next(gen)\n",
    "    return agent"
   ]
  },
  {
   "cell_type": "code",
   "execution_count": 29,
   "metadata": {},
   "outputs": [
    {
     "data": {
      "image/png": "[encoded data removed]",
      "text/plain": [
       "<Figure size 1200x400 with 4 Axes>"
      ]
     },
     "metadata": {},
     "output_type": "display_data"
    }
   ],
   "source": [
    "import numpy as np\n",
    "import matplotlib.pyplot as plt\n",
    "from matplotlib.colors import ListedColormap\n",
    "\n",
    "xth = 3\n",
    "example = get_xth_agent(24, xth)\n",
    "# create a sample matrix\n",
    "obs_map, cov_map = get_composite_predicted(xth+1, example)\n",
    "ground_truth = get_composite_ground_truth(xth+1, example)\n",
    "globals = get_composite_global(example['obs'])\n",
    "\n",
    "\n",
    "# define a custom color map\n",
    "cmap = ListedColormap(['white', generate_color(1), generate_color(2), generate_color(3), generate_color(4), 'black', 'grey'])\n",
    "\n",
    "fig, ax = plt.subplots(1, 4, figsize=(12, 4))\n",
    "im = ax[2].imshow(obs_map.detach().numpy(), cmap='gray_r')\n",
    "im1 = ax[3].imshow(cov_map.detach().numpy(), cmap='Greens')\n",
    "im2 = ax[1].imshow(ground_truth, cmap=cmap, vmin=0, vmax=6)\n",
    "im3 = ax[0].imshow(globals, cmap=cmap, vmin=0, vmax=6)\n",
    "# ax[0].set_title('Global map')\n",
    "# ax[1].set_title('Local true map')\n",
    "# ax[2].set_title('Predicted obstacles')\n",
    "# ax[3].set_title('Predicted coverage')\n",
    "for idx in range(4):\n",
    "    ax[idx].set_xticks([])\n",
    "    ax[idx].set_yticks([])\n",
    "    ax[idx].set_xticklabels([])\n",
    "    ax[idx].set_yticklabels([])\n",
    "# show the plot\n",
    "plt.show()"
   ]
  },
  {
   "cell_type": "code",
   "execution_count": 36,
   "metadata": {},
   "outputs": [
    {
     "data": {
      "text/plain": [
       "tensor([[0.0355, 0.0445, 0.0426, 0.0511, 0.0600, 0.0615, 0.1046, 0.0710, 0.0497,\n",
       "         0.1150, 0.1320, 0.1127, 0.1166, 0.0893, 0.0698, 0.0600],\n",
       "        [0.0344, 0.0428, 0.0405, 0.0485, 0.0586, 0.0613, 0.0634, 0.0719, 0.1040,\n",
       "         0.1269, 0.1243, 0.1051, 0.0915, 0.0653, 0.0470, 0.0407],\n",
       "        [0.0378, 0.0482, 0.0468, 0.0578, 0.1383, 0.0641, 0.0424, 0.0597, 0.0452,\n",
       "         0.0845, 0.0905, 0.0769, 0.0744, 0.0537, 0.0378, 0.0324],\n",
       "        [0.0610, 0.0782, 0.0755, 0.0946, 0.0958, 0.1073, 0.1100, 0.1280, 0.2064,\n",
       "         0.1322, 0.0918, 0.0855, 0.0699, 0.0496, 0.0333, 0.0282],\n",
       "        [0.0962, 0.1240, 0.1333, 0.1461, 0.1346, 0.1431, 0.1718, 0.1712, 0.2127,\n",
       "         0.1621, 0.1215, 0.1019, 0.0712, 0.0514, 0.0331, 0.0288],\n",
       "        [0.1379, 0.1787, 0.1610, 0.2013, 0.1755, 0.2083, 0.2106, 0.2515, 0.3527,\n",
       "         0.1556, 0.1112, 0.0863, 0.0597, 0.0458, 0.0296, 0.0247],\n",
       "        [0.2036, 0.1983, 0.2066, 0.2083, 0.1472, 0.2992, 0.3132, 0.3721, 0.3722,\n",
       "         0.1600, 0.1075, 0.0657, 0.0478, 0.0385, 0.0254, 0.0215],\n",
       "        [0.1314, 0.1770, 0.1279, 0.1812, 0.1861, 0.3193, 0.3526, 0.4008, 0.5539,\n",
       "         0.1653, 0.0814, 0.0550, 0.0367, 0.0315, 0.0209, 0.0180],\n",
       "        [0.0746, 0.1535, 0.0628, 0.1420, 0.0747, 0.2630, 0.1964, 0.4017, 0.9661,\n",
       "         0.1731, 0.0442, 0.0465, 0.0254, 0.0256, 0.0179, 0.0145],\n",
       "        [0.0707, 0.1074, 0.0766, 0.0989, 0.0997, 0.1350, 0.1496, 0.1600, 0.2266,\n",
       "         0.0727, 0.0443, 0.0293, 0.0218, 0.0228, 0.0164, 0.0131],\n",
       "        [0.0553, 0.0835, 0.0703, 0.0919, 0.1131, 0.1102, 0.1679, 0.1211, 0.0944,\n",
       "         0.0786, 0.0606, 0.0377, 0.0254, 0.0213, 0.0130, 0.0104],\n",
       "        [0.0426, 0.0625, 0.0618, 0.0851, 0.0909, 0.0953, 0.1109, 0.1027, 0.1276,\n",
       "         0.0823, 0.0609, 0.0414, 0.0258, 0.0177, 0.0107, 0.0084],\n",
       "        [0.0300, 0.0438, 0.0563, 0.0720, 0.0851, 0.0822, 0.0904, 0.0882, 0.0776,\n",
       "         0.0716, 0.0535, 0.0320, 0.0211, 0.0133, 0.0088, 0.0066],\n",
       "        [0.0177, 0.0257, 0.0349, 0.0468, 0.0534, 0.0628, 0.0708, 0.0618, 0.0643,\n",
       "         0.0496, 0.0342, 0.0242, 0.0171, 0.0101, 0.0065, 0.0050],\n",
       "        [0.0146, 0.0194, 0.0278, 0.0356, 0.0419, 0.0502, 0.0512, 0.0431, 0.0445,\n",
       "         0.0367, 0.0265, 0.0203, 0.0152, 0.0083, 0.0051, 0.0037],\n",
       "        [0.0130, 0.0159, 0.0234, 0.0286, 0.0342, 0.0456, 0.0454, 0.0382, 0.0401,\n",
       "         0.0304, 0.0208, 0.0161, 0.0113, 0.0056, 0.0035, 0.0025]],\n",
       "       grad_fn=<SqueezeBackward1>)"
      ]
     },
     "execution_count": 36,
     "metadata": {},
     "output_type": "execute_result"
    }
   ],
   "source": [
    "cov_map"
   ]
  },
  {
   "cell_type": "code",
   "execution_count": null,
   "metadata": {},
   "outputs": [],
   "source": [
    "obs, cov = interpreter.forward(example)"
   ]
  },
  {
   "cell_type": "code",
   "execution_count": null,
   "metadata": {},
   "outputs": [],
   "source": [
    "obs = obs.squeeze(0).squeeze(0)"
   ]
  },
  {
   "cell_type": "code",
   "execution_count": null,
   "metadata": {},
   "outputs": [
    {
     "data": {
      "image/png": "[encoded data removed]",
      "text/plain": [
       "<Figure size 640x480 with 1 Axes>"
      ]
     },
     "metadata": {},
     "output_type": "display_data"
    }
   ],
   "source": [
    "map = torch.fill(obs, 0.1)\n",
    "map[obs > 0.7] = 2.0\n",
    "map[obs < 0.3] = 0.0\n",
    "\n",
    "new_cmap = ListedColormap(['white', 'gray', 'black'])\n",
    "fig, ax = plt.subplots()\n",
    "im = ax.imshow(pred, cmap=new_cmap)\n",
    "plt.show()"
   ]
  },
  {
   "cell_type": "code",
   "execution_count": 3,
   "metadata": {},
   "outputs": [],
   "source": [
    "import ray\n",
    "from ray.tune.registry import register_env\n",
    "from ray.rllib.models import ModelCatalog\n",
    "from ray.rllib.algorithms.algorithm import Algorithm\n",
    "from main_2 import CustomCallbacks\n",
    "from action_distribution import TorchHomogeneousMultiActionDistribution\n",
    "from coverage_2 import CoverageEnv\n",
    "from model import AdversarialModel\n",
    "from trainer_2 import MultiPPOTrainer\n",
    "\n",
    "config={\n",
    "            \"callbacks\": CustomCallbacks,\n",
    "            \"output\": './eval_trace/',\n",
    "            \"framework\": \"torch\",\n",
    "            \"env\": \"coverage\",\n",
    "            \"use_gae\": True,\n",
    "            'use_critic': True,\n",
    "            \"kl_coeff\": 0.5,\n",
    "            \"lambda\": 0.95,\n",
    "            \"clip_param\": 0.2,\n",
    "            \"entropy_coeff\": 0.01,\n",
    "            \"train_batch_size\": 1000,\n",
    "            \"rollout_fragment_length\": 45,\n",
    "            \"sgd_minibatch_size\": 100,\n",
    "            \"num_sgd_iter\": 5,\n",
    "            \"num_gpus\": 0,\n",
    "            \"num_workers\": 1,\n",
    "            \"num_envs_per_worker\": 1,\n",
    "            \"lr\": 5e-4,\n",
    "            \"gamma\": 0.9,\n",
    "            \"batch_mode\": \"truncate_episodes\",\n",
    "            \"observation_filter\": \"NoFilter\",\n",
    "            \"model\": {\n",
    "                \"custom_model\": \"adversarial\",\n",
    "                \"custom_action_dist\": \"hom_multi_action\",\n",
    "                \"custom_model_config\": {\n",
    "                    'graph_layers': 1,\n",
    "                    'graph_tabs': 2,\n",
    "                    'graph_edge_features': 1,\n",
    "                    'graph_features': 32,\n",
    "                    'cnn_filters': [[8, [4, 4], 2], [16, [4, 4], 2], [32, [3, 3], 2]],\n",
    "                    'value_cnn_filters': [[8, [4, 4], 2], [16, [4, 4], 2], [32, [4, 4], 2]],\n",
    "                    'value_cnn_compression': 32,\n",
    "                    'cnn_compression': 32,\n",
    "                    'pre_gnn_mlp': [64, 128, 32],\n",
    "                    'gp_kernel_size': 16,\n",
    "                    'graph_aggregation': 'sum',\n",
    "                    'relative': True,\n",
    "                    'activation': 'relu',\n",
    "                    'freeze_coop': False,\n",
    "                    'freeze_greedy': False,\n",
    "                    'freeze_coop_value': False,\n",
    "                    'freeze_greedy_value': False,\n",
    "                    'cnn_residual': False,\n",
    "                    'agent_split': 1,\n",
    "                    'greedy_mse_fac': 0.0,\n",
    "                    'disable_comms': False,\n",
    "                },\n",
    "            },\n",
    "            \"env_config\": {\n",
    "                'world_shape': [16, 16],\n",
    "                'state_size': 8,\n",
    "                'collapse_state': False,\n",
    "                'termination_no_new_coverage': 10,\n",
    "                'max_episode_len': 154, # 16 * 16 * 0.6\n",
    "                'n_agents': 4,\n",
    "                'disabled_teams_step': [True, False],\n",
    "                'disabled_teams_comms': [True, False],\n",
    "                'min_coverable_area_fraction': 0.6,\n",
    "                'map_mode': 'random',\n",
    "                'reward_annealing': 0.0,\n",
    "                'communication_range': 100.0,\n",
    "                'ensure_connectivity': True,\n",
    "                'reward_type': 'semi_cooperative', #semi_cooperative/cooperative\n",
    "                'episode_termination': 'early', # early/fixed/default\n",
    "                'operation_mode': 'coop_only',\n",
    "            },\n",
    "            'create_env_on_driver': True,\n",
    "            'evaluation_config': {\n",
    "                'explore': True,\n",
    "                'evaluation_duration': 100,\n",
    "                'evaluation_duration_unit': 'episodes',\n",
    "                'evaluation_num_workers': 4\n",
    "            }\n",
    "        }"
   ]
  },
  {
   "cell_type": "code",
   "execution_count": 4,
   "metadata": {},
   "outputs": [
    {
     "name": "stderr",
     "output_type": "stream",
     "text": [
      "2023-03-15 19:27:51,536\tINFO worker.py:1528 -- Started a local Ray instance.\n"
     ]
    }
   ],
   "source": [
    "ray.shutdown()\n",
    "ray.init()\n",
    "register_env(\"coverage\", lambda config: CoverageEnv(config))\n",
    "ModelCatalog.register_custom_model(\"adversarial\", AdversarialModel)\n",
    "ModelCatalog.register_custom_action_dist(\n",
    "    \"hom_multi_action\", TorchHomogeneousMultiActionDistribution\n",
    ")"
   ]
  },
  {
   "cell_type": "code",
   "execution_count": 5,
   "metadata": {},
   "outputs": [
    {
     "name": "stderr",
     "output_type": "stream",
     "text": [
      "2023-03-15 19:27:53,645\tWARNING ppo.py:351 -- `train_batch_size` (1000) cannot be achieved with your other settings (num_workers=1 num_envs_per_worker=1 rollout_fragment_length=45)! Auto-adjusting `rollout_fragment_length` to 1000.\n",
      "2023-03-15 19:27:53,646\tINFO ppo.py:379 -- In multi-agent mode, policies will be optimized sequentially by the multi-GPU optimizer. Consider setting simple_optimizer=True if this doesn't work for you.\n",
      "2023-03-15 19:27:53,648\tINFO algorithm.py:457 -- Current log_level is WARN. For more information, set 'log_level': 'INFO' / 'DEBUG' or use the -v and -vv flags.\n",
      "2023-03-15 19:27:55,579\tWARNING env.py:147 -- Your env doesn't have a .spec.max_episode_steps attribute. This is fine if you have set 'horizon' in your config dictionary, or `soft_horizon`. However, if you haven't, 'horizon' will default to infinity, and your environment will not be reset.\n",
      "\u001b[2m\u001b[36m(RolloutWorker pid=88166)\u001b[0m 2023-03-15 19:27:55,510\tWARNING env.py:147 -- Your env doesn't have a .spec.max_episode_steps attribute. This is fine if you have set 'horizon' in your config dictionary, or `soft_horizon`. However, if you haven't, 'horizon' will default to infinity, and your environment will not be reset.\n",
      "\u001b[2m\u001b[36m(RolloutWorker pid=88166)\u001b[0m 2023-03-15 19:27:55,510\tWARNING env.py:159 -- Your env reset() method appears to take 'seed' or 'return_info' arguments. Note that these are not yet supported in RLlib. Seeding will take place using 'env.seed()' and the info dict will not be returned from reset.\n",
      "\u001b[2m\u001b[36m(RolloutWorker pid=88166)\u001b[0m 2023-03-15 19:27:55,527\tWARNING catalog.py:641 -- Custom ModelV2 should accept all custom options as **kwargs, instead of expecting them in config['custom_model_config']!\n",
      "2023-03-15 19:27:55,579\tWARNING env.py:159 -- Your env reset() method appears to take 'seed' or 'return_info' arguments. Note that these are not yet supported in RLlib. Seeding will take place using 'env.seed()' and the info dict will not be returned from reset.\n",
      "2023-03-15 19:27:55,689\tWARNING catalog.py:641 -- Custom ModelV2 should accept all custom options as **kwargs, instead of expecting them in config['custom_model_config']!\n",
      "2023-03-15 19:27:55,727\tWARNING util.py:66 -- Install gputil for GPU system monitoring.\n"
     ]
    }
   ],
   "source": [
    "trainer = MultiPPOTrainer(config)"
   ]
  },
  {
   "cell_type": "code",
   "execution_count": null,
   "metadata": {},
   "outputs": [
    {
     "data": {
      "text/plain": [
       "'0.23.1'"
      ]
     },
     "execution_count": 5,
     "metadata": {},
     "output_type": "execute_result"
    }
   ],
   "source": [
    "import gym\n",
    "gym.__version__"
   ]
  },
  {
   "cell_type": "code",
   "execution_count": 6,
   "metadata": {},
   "outputs": [
    {
     "name": "stderr",
     "output_type": "stream",
     "text": [
      "2023-03-15 19:28:02,698\tINFO trainable.py:766 -- Restored on 127.0.0.1 from checkpoint: /Users/antoniaboca/vs_code/R255/self_interested_comms/results/MultiPPOTrainer_2023-03-12_18-08-39/MultiPPOTrainer_coverage_ea8ac_00000_0_2023-03-12_18-08-39/checkpoint_000900\n",
      "2023-03-15 19:28:02,698\tINFO trainable.py:775 -- Current state after restoring: {'_iteration': 900, '_timesteps_total': None, '_time_total': 26712.856531381607, '_episodes_total': 140171}\n"
     ]
    }
   ],
   "source": [
    "trainer.restore(low_comms)"
   ]
  },
  {
   "cell_type": "code",
   "execution_count": 7,
   "metadata": {},
   "outputs": [
    {
     "name": "stderr",
     "output_type": "stream",
     "text": [
      "\u001b[2m\u001b[33m(raylet)\u001b[0m [2023-03-15 19:28:11,525 E 88151 5907727] (raylet) file_system_monitor.cc:105: /tmp/ray/session_2023-03-15_19-27-49_969168_88089 is over 95% full, available space: 17683972096; capacity: 494384795648. Object creation will fail if spilling is required.\n",
      "\u001b[2m\u001b[33m(raylet)\u001b[0m [2023-03-15 19:28:21,615 E 88151 5907727] (raylet) file_system_monitor.cc:105: /tmp/ray/session_2023-03-15_19-27-49_969168_88089 is over 95% full, available space: 17674698752; capacity: 494384795648. Object creation will fail if spilling is required.\n",
      "\u001b[2m\u001b[33m(raylet)\u001b[0m [2023-03-15 19:28:31,707 E 88151 5907727] (raylet) file_system_monitor.cc:105: /tmp/ray/session_2023-03-15_19-27-49_969168_88089 is over 95% full, available space: 17663340544; capacity: 494384795648. Object creation will fail if spilling is required.\n"
     ]
    },
    {
     "data": {
      "text/plain": [
       "{'evaluation': {'episode_reward_max': 146.0,\n",
       "  'episode_reward_min': 12.0,\n",
       "  'episode_reward_mean': 96.98936170212765,\n",
       "  'episode_len_mean': 35.329787234042556,\n",
       "  'episode_media': {},\n",
       "  'episodes_this_iter': 282,\n",
       "  'policy_reward_min': {},\n",
       "  'policy_reward_max': {},\n",
       "  'policy_reward_mean': {},\n",
       "  'custom_metrics': {'agent_reward_max_mean': 30.365248226950353,\n",
       "   'agent_reward_max_min': 9,\n",
       "   'agent_reward_max_max': 49,\n",
       "   'agent_reward_min_mean': 17.865248226950353,\n",
       "   'agent_reward_min_min': 0,\n",
       "   'agent_reward_min_max': 32,\n",
       "   'agent_reward_mean_mean': 24.247340425531913,\n",
       "   'agent_reward_mean_min': 3.0,\n",
       "   'agent_reward_mean_max': 36.5},\n",
       "  'hist_stats': {'episode_reward': [129.0,\n",
       "    119.0,\n",
       "    125.0,\n",
       "    99.0,\n",
       "    125.0,\n",
       "    79.0,\n",
       "    29.0,\n",
       "    113.0,\n",
       "    91.0,\n",
       "    119.0,\n",
       "    95.0,\n",
       "    106.0,\n",
       "    73.0,\n",
       "    98.0,\n",
       "    66.0,\n",
       "    101.0,\n",
       "    71.0,\n",
       "    82.0,\n",
       "    111.0,\n",
       "    110.0,\n",
       "    108.0,\n",
       "    103.0,\n",
       "    127.0,\n",
       "    20.0,\n",
       "    127.0,\n",
       "    94.0,\n",
       "    87.0,\n",
       "    113.0,\n",
       "    115.0,\n",
       "    109.0,\n",
       "    119.0,\n",
       "    113.0,\n",
       "    92.0,\n",
       "    142.0,\n",
       "    121.0,\n",
       "    44.0,\n",
       "    84.0,\n",
       "    28.0,\n",
       "    99.0,\n",
       "    116.0,\n",
       "    64.0,\n",
       "    119.0,\n",
       "    96.0,\n",
       "    120.0,\n",
       "    129.0,\n",
       "    42.0,\n",
       "    119.0,\n",
       "    76.0,\n",
       "    68.0,\n",
       "    55.0,\n",
       "    97.0,\n",
       "    127.0,\n",
       "    102.0,\n",
       "    63.0,\n",
       "    117.0,\n",
       "    100.0,\n",
       "    117.0,\n",
       "    133.0,\n",
       "    133.0,\n",
       "    98.0,\n",
       "    26.0,\n",
       "    122.0,\n",
       "    81.0,\n",
       "    116.0,\n",
       "    90.0,\n",
       "    116.0,\n",
       "    107.0,\n",
       "    99.0,\n",
       "    98.0,\n",
       "    101.0,\n",
       "    79.0,\n",
       "    115.0,\n",
       "    99.0,\n",
       "    92.0,\n",
       "    93.0,\n",
       "    100.0,\n",
       "    38.0,\n",
       "    127.0,\n",
       "    134.0,\n",
       "    101.0,\n",
       "    128.0,\n",
       "    72.0,\n",
       "    81.0,\n",
       "    130.0,\n",
       "    91.0,\n",
       "    127.0,\n",
       "    73.0,\n",
       "    122.0,\n",
       "    51.0,\n",
       "    50.0,\n",
       "    124.0,\n",
       "    24.0,\n",
       "    93.0,\n",
       "    89.0,\n",
       "    118.0,\n",
       "    130.0,\n",
       "    31.0,\n",
       "    103.0,\n",
       "    33.0,\n",
       "    87.0,\n",
       "    124.0,\n",
       "    67.0,\n",
       "    70.0,\n",
       "    103.0,\n",
       "    121.0,\n",
       "    97.0,\n",
       "    91.0,\n",
       "    123.0,\n",
       "    132.0,\n",
       "    90.0,\n",
       "    106.0,\n",
       "    17.0,\n",
       "    117.0,\n",
       "    139.0,\n",
       "    99.0,\n",
       "    107.0,\n",
       "    101.0,\n",
       "    145.0,\n",
       "    107.0,\n",
       "    118.0,\n",
       "    47.0,\n",
       "    105.0,\n",
       "    110.0,\n",
       "    114.0,\n",
       "    110.0,\n",
       "    89.0,\n",
       "    80.0,\n",
       "    117.0,\n",
       "    92.0,\n",
       "    103.0,\n",
       "    56.0,\n",
       "    89.0,\n",
       "    87.0,\n",
       "    68.0,\n",
       "    116.0,\n",
       "    31.0,\n",
       "    91.0,\n",
       "    110.0,\n",
       "    65.0,\n",
       "    126.0,\n",
       "    114.0,\n",
       "    38.0,\n",
       "    107.0,\n",
       "    119.0,\n",
       "    100.0,\n",
       "    111.0,\n",
       "    42.0,\n",
       "    100.0,\n",
       "    50.0,\n",
       "    102.0,\n",
       "    76.0,\n",
       "    101.0,\n",
       "    94.0,\n",
       "    135.0,\n",
       "    94.0,\n",
       "    66.0,\n",
       "    85.0,\n",
       "    106.0,\n",
       "    115.0,\n",
       "    94.0,\n",
       "    78.0,\n",
       "    136.0,\n",
       "    116.0,\n",
       "    129.0,\n",
       "    135.0,\n",
       "    27.0,\n",
       "    83.0,\n",
       "    97.0,\n",
       "    114.0,\n",
       "    98.0,\n",
       "    119.0,\n",
       "    60.0,\n",
       "    101.0,\n",
       "    124.0,\n",
       "    139.0,\n",
       "    76.0,\n",
       "    109.0,\n",
       "    128.0,\n",
       "    38.0,\n",
       "    85.0,\n",
       "    120.0,\n",
       "    48.0,\n",
       "    142.0,\n",
       "    51.0,\n",
       "    122.0,\n",
       "    89.0,\n",
       "    68.0,\n",
       "    65.0,\n",
       "    69.0,\n",
       "    130.0,\n",
       "    126.0,\n",
       "    127.0,\n",
       "    25.0,\n",
       "    113.0,\n",
       "    60.0,\n",
       "    105.0,\n",
       "    130.0,\n",
       "    82.0,\n",
       "    129.0,\n",
       "    124.0,\n",
       "    116.0,\n",
       "    75.0,\n",
       "    107.0,\n",
       "    139.0,\n",
       "    134.0,\n",
       "    131.0,\n",
       "    127.0,\n",
       "    58.0,\n",
       "    49.0,\n",
       "    114.0,\n",
       "    84.0,\n",
       "    121.0,\n",
       "    49.0,\n",
       "    125.0,\n",
       "    53.0,\n",
       "    100.0,\n",
       "    106.0,\n",
       "    46.0,\n",
       "    86.0,\n",
       "    128.0,\n",
       "    71.0,\n",
       "    109.0,\n",
       "    124.0,\n",
       "    99.0,\n",
       "    125.0,\n",
       "    73.0,\n",
       "    113.0,\n",
       "    100.0,\n",
       "    22.0,\n",
       "    96.0,\n",
       "    135.0,\n",
       "    92.0,\n",
       "    127.0,\n",
       "    126.0,\n",
       "    102.0,\n",
       "    101.0,\n",
       "    98.0,\n",
       "    111.0,\n",
       "    117.0,\n",
       "    126.0,\n",
       "    127.0,\n",
       "    39.0,\n",
       "    25.0,\n",
       "    109.0,\n",
       "    50.0,\n",
       "    108.0,\n",
       "    114.0,\n",
       "    94.0,\n",
       "    85.0,\n",
       "    113.0,\n",
       "    105.0,\n",
       "    101.0,\n",
       "    84.0,\n",
       "    119.0,\n",
       "    94.0,\n",
       "    123.0,\n",
       "    125.0,\n",
       "    92.0,\n",
       "    124.0,\n",
       "    65.0,\n",
       "    12.0,\n",
       "    36.0,\n",
       "    117.0,\n",
       "    122.0,\n",
       "    106.0,\n",
       "    95.0,\n",
       "    139.0,\n",
       "    93.0,\n",
       "    105.0,\n",
       "    142.0,\n",
       "    89.0,\n",
       "    103.0,\n",
       "    91.0,\n",
       "    70.0,\n",
       "    119.0,\n",
       "    98.0,\n",
       "    146.0,\n",
       "    113.0,\n",
       "    123.0,\n",
       "    126.0,\n",
       "    112.0,\n",
       "    69.0],\n",
       "   'episode_lengths': [48,\n",
       "    45,\n",
       "    45,\n",
       "    33,\n",
       "    48,\n",
       "    25,\n",
       "    12,\n",
       "    39,\n",
       "    31,\n",
       "    47,\n",
       "    29,\n",
       "    40,\n",
       "    26,\n",
       "    33,\n",
       "    19,\n",
       "    34,\n",
       "    24,\n",
       "    28,\n",
       "    45,\n",
       "    45,\n",
       "    38,\n",
       "    38,\n",
       "    50,\n",
       "    9,\n",
       "    44,\n",
       "    36,\n",
       "    29,\n",
       "    44,\n",
       "    35,\n",
       "    38,\n",
       "    40,\n",
       "    36,\n",
       "    32,\n",
       "    61,\n",
       "    39,\n",
       "    15,\n",
       "    28,\n",
       "    12,\n",
       "    37,\n",
       "    51,\n",
       "    26,\n",
       "    44,\n",
       "    33,\n",
       "    46,\n",
       "    48,\n",
       "    19,\n",
       "    39,\n",
       "    24,\n",
       "    30,\n",
       "    23,\n",
       "    36,\n",
       "    52,\n",
       "    34,\n",
       "    31,\n",
       "    41,\n",
       "    41,\n",
       "    43,\n",
       "    51,\n",
       "    51,\n",
       "    30,\n",
       "    9,\n",
       "    44,\n",
       "    26,\n",
       "    46,\n",
       "    32,\n",
       "    52,\n",
       "    42,\n",
       "    32,\n",
       "    36,\n",
       "    33,\n",
       "    28,\n",
       "    43,\n",
       "    30,\n",
       "    33,\n",
       "    30,\n",
       "    33,\n",
       "    13,\n",
       "    47,\n",
       "    51,\n",
       "    38,\n",
       "    46,\n",
       "    27,\n",
       "    28,\n",
       "    50,\n",
       "    32,\n",
       "    49,\n",
       "    24,\n",
       "    46,\n",
       "    21,\n",
       "    18,\n",
       "    46,\n",
       "    9,\n",
       "    35,\n",
       "    34,\n",
       "    44,\n",
       "    53,\n",
       "    12,\n",
       "    39,\n",
       "    13,\n",
       "    29,\n",
       "    50,\n",
       "    21,\n",
       "    28,\n",
       "    36,\n",
       "    40,\n",
       "    33,\n",
       "    29,\n",
       "    46,\n",
       "    47,\n",
       "    30,\n",
       "    36,\n",
       "    11,\n",
       "    43,\n",
       "    54,\n",
       "    32,\n",
       "    43,\n",
       "    35,\n",
       "    63,\n",
       "    36,\n",
       "    44,\n",
       "    17,\n",
       "    36,\n",
       "    39,\n",
       "    37,\n",
       "    36,\n",
       "    29,\n",
       "    24,\n",
       "    47,\n",
       "    29,\n",
       "    37,\n",
       "    19,\n",
       "    26,\n",
       "    30,\n",
       "    27,\n",
       "    43,\n",
       "    12,\n",
       "    33,\n",
       "    44,\n",
       "    21,\n",
       "    48,\n",
       "    47,\n",
       "    12,\n",
       "    33,\n",
       "    42,\n",
       "    37,\n",
       "    38,\n",
       "    15,\n",
       "    33,\n",
       "    16,\n",
       "    37,\n",
       "    24,\n",
       "    37,\n",
       "    38,\n",
       "    52,\n",
       "    29,\n",
       "    23,\n",
       "    29,\n",
       "    37,\n",
       "    43,\n",
       "    34,\n",
       "    25,\n",
       "    56,\n",
       "    40,\n",
       "    45,\n",
       "    49,\n",
       "    9,\n",
       "    30,\n",
       "    36,\n",
       "    37,\n",
       "    36,\n",
       "    44,\n",
       "    24,\n",
       "    35,\n",
       "    47,\n",
       "    59,\n",
       "    32,\n",
       "    43,\n",
       "    47,\n",
       "    15,\n",
       "    27,\n",
       "    45,\n",
       "    21,\n",
       "    56,\n",
       "    24,\n",
       "    49,\n",
       "    33,\n",
       "    27,\n",
       "    24,\n",
       "    26,\n",
       "    46,\n",
       "    44,\n",
       "    49,\n",
       "    9,\n",
       "    43,\n",
       "    19,\n",
       "    35,\n",
       "    52,\n",
       "    35,\n",
       "    48,\n",
       "    45,\n",
       "    42,\n",
       "    32,\n",
       "    36,\n",
       "    46,\n",
       "    55,\n",
       "    52,\n",
       "    42,\n",
       "    21,\n",
       "    21,\n",
       "    38,\n",
       "    29,\n",
       "    40,\n",
       "    20,\n",
       "    46,\n",
       "    18,\n",
       "    36,\n",
       "    38,\n",
       "    14,\n",
       "    32,\n",
       "    51,\n",
       "    22,\n",
       "    43,\n",
       "    40,\n",
       "    35,\n",
       "    46,\n",
       "    26,\n",
       "    35,\n",
       "    32,\n",
       "    11,\n",
       "    31,\n",
       "    50,\n",
       "    31,\n",
       "    47,\n",
       "    47,\n",
       "    39,\n",
       "    37,\n",
       "    47,\n",
       "    40,\n",
       "    45,\n",
       "    50,\n",
       "    49,\n",
       "    14,\n",
       "    9,\n",
       "    39,\n",
       "    20,\n",
       "    38,\n",
       "    44,\n",
       "    31,\n",
       "    32,\n",
       "    37,\n",
       "    39,\n",
       "    35,\n",
       "    27,\n",
       "    42,\n",
       "    34,\n",
       "    49,\n",
       "    43,\n",
       "    36,\n",
       "    43,\n",
       "    27,\n",
       "    9,\n",
       "    14,\n",
       "    41,\n",
       "    43,\n",
       "    37,\n",
       "    34,\n",
       "    53,\n",
       "    29,\n",
       "    38,\n",
       "    55,\n",
       "    30,\n",
       "    36,\n",
       "    30,\n",
       "    26,\n",
       "    44,\n",
       "    34,\n",
       "    59,\n",
       "    39,\n",
       "    41,\n",
       "    42,\n",
       "    41,\n",
       "    21]},\n",
       "  'sampler_perf': {'mean_raw_obs_processing_ms': 0.42854493980991304,\n",
       "   'mean_inference_ms': 1.8630961086401732,\n",
       "   'mean_action_processing_ms': 0.03970657488236772,\n",
       "   'mean_env_wait_ms': 1.242544564970993,\n",
       "   'mean_env_render_ms': 0.0},\n",
       "  'num_faulty_episodes': 0,\n",
       "  'num_agent_steps_sampled_this_iter': 10000,\n",
       "  'num_env_steps_sampled_this_iter': 10000,\n",
       "  'timesteps_this_iter': 10000}}"
      ]
     },
     "execution_count": 7,
     "metadata": {},
     "output_type": "execute_result"
    },
    {
     "name": "stderr",
     "output_type": "stream",
     "text": [
      "\u001b[2m\u001b[33m(raylet)\u001b[0m [2023-03-15 19:28:41,801 E 88151 5907727] (raylet) file_system_monitor.cc:105: /tmp/ray/session_2023-03-15_19-27-49_969168_88089 is over 95% full, available space: 17655017472; capacity: 494384795648. Object creation will fail if spilling is required.\n"
     ]
    }
   ],
   "source": [
    "trainer.evaluate()"
   ]
  },
  {
   "cell_type": "code",
   "execution_count": 32,
   "metadata": {},
   "outputs": [],
   "source": [
    "model = trainer.get_policy().model"
   ]
  },
  {
   "cell_type": "code",
   "execution_count": 33,
   "metadata": {},
   "outputs": [],
   "source": [
    "gnn_list = model.agent_gnns"
   ]
  },
  {
   "cell_type": "code",
   "execution_count": 34,
   "metadata": {},
   "outputs": [
    {
     "data": {
      "text/plain": [
       "Text(0, 0.5, 'Number of GNN parameters')"
      ]
     },
     "execution_count": 34,
     "metadata": {},
     "output_type": "execute_result"
    },
    {
     "data": {
      "image/png": "[encoded data removed]",
      "text/plain": [
       "<Figure size 1200x400 with 4 Axes>"
      ]
     },
     "metadata": {},
     "output_type": "display_data"
    }
   ],
   "source": [
    "import matplotlib as mpl\n",
    "import matplotlib.pyplot as plt\n",
    "\n",
    "mpl.rcParams['text.usetex'] = True\n",
    "mpl.rcParams['font.family'] = 'serif'\n",
    "mpl.rcParams['font.serif'] = 'Times New Roman'\n",
    "mpl.rcParams['font.size'] = 16\n",
    "\n",
    "fig, ax = plt.subplots(1, 4, figsize=(12, 4), sharey=True)\n",
    "\n",
    "for idx in range(4):\n",
    "    layer0 = gnn_list[idx].layers[0][0]\n",
    "    layer1 = gnn_list[idx].layers[0][1]\n",
    "\n",
    "    ax[idx].grid()\n",
    "    ax[idx].hist(layer0.data.flatten(), bins=50, color='red', alpha=0.7)\n",
    "    ax[idx].hist(layer1.data.flatten(), bins=50, color='blue', alpha=0.7)\n",
    "    ax[idx].legend(['H_0', 'H_1'])\n",
    "    ax[idx].set_title(f'Agent {idx}')\n",
    "    ax[idx].set_xlabel('Parameter value')\n",
    "ax[0].set_ylabel('Number of GNN parameters')"
   ]
  },
  {
   "cell_type": "code",
   "execution_count": 72,
   "metadata": {},
   "outputs": [
    {
     "data": {
      "text/plain": [
       "<matplotlib.legend.Legend at 0x14d891dc0>"
      ]
     },
     "execution_count": 72,
     "metadata": {},
     "output_type": "execute_result"
    },
    {
     "data": {
      "image/png": "[encoded data removed]",
      "text/plain": [
       "<Figure size 640x480 with 1 Axes>"
      ]
     },
     "metadata": {},
     "output_type": "display_data"
    },
    {
     "name": "stderr",
     "output_type": "stream",
     "text": [
      "\u001b[2m\u001b[33m(raylet)\u001b[0m [2023-03-15 19:01:29,149 E 86140 5831773] (raylet) file_system_monitor.cc:105: /tmp/ray/session_2023-03-15_18-26-42_396373_86101 is over 95% full, available space: 17683816448; capacity: 494384795648. Object creation will fail if spilling is required.\n",
      "\u001b[2m\u001b[33m(raylet)\u001b[0m [2023-03-15 19:01:39,238 E 86140 5831773] (raylet) file_system_monitor.cc:105: /tmp/ray/session_2023-03-15_18-26-42_396373_86101 is over 95% full, available space: 17683804160; capacity: 494384795648. Object creation will fail if spilling is required.\n",
      "\u001b[2m\u001b[33m(raylet)\u001b[0m [2023-03-15 19:01:49,322 E 86140 5831773] (raylet) file_system_monitor.cc:105: /tmp/ray/session_2023-03-15_18-26-42_396373_86101 is over 95% full, available space: 17683660800; capacity: 494384795648. Object creation will fail if spilling is required.\n"
     ]
    }
   ],
   "source": [
    "plt.grid()\n",
    "plt.hist(layer0.data.flatten(), bins=50, color='red', alpha=0.7)\n",
    "plt.hist(layer1.data.flatten(), bins=50, color='blue', alpha=0.7)\n",
    "plt.legend(['H_0', 'H_1'])"
   ]
  },
  {
   "cell_type": "code",
   "execution_count": 9,
   "metadata": {},
   "outputs": [
    {
     "data": {
      "text/plain": [
       "<torch.utils.hooks.RemovableHandle at 0x169657f40>"
      ]
     },
     "execution_count": 9,
     "metadata": {},
     "output_type": "execute_result"
    },
    {
     "name": "stderr",
     "output_type": "stream",
     "text": [
      "\u001b[2m\u001b[33m(raylet)\u001b[0m [2023-03-15 19:29:01,989 E 88151 5907727] (raylet) file_system_monitor.cc:105: /tmp/ray/session_2023-03-15_19-27-49_969168_88089 is over 95% full, available space: 17645486080; capacity: 494384795648. Object creation will fail if spilling is required.\n"
     ]
    }
   ],
   "source": [
    "Xs = []\n",
    "def record_gnn_input(module, input_, output):\n",
    "    cnn_feats, gsos = input_\n",
    "    Xs.append(cnn_feats)\n",
    "\n",
    "model.agent_gnns[0].register_forward_hook(record_gnn_input)    "
   ]
  },
  {
   "cell_type": "code",
   "execution_count": null,
   "metadata": {},
   "outputs": [],
   "source": [
    "ray.shutdown()"
   ]
  },
  {
   "cell_type": "code",
   "execution_count": 10,
   "metadata": {},
   "outputs": [
    {
     "name": "stdout",
     "output_type": "stream",
     "text": [
      "1\n",
      "2\n",
      "3\n",
      "4\n",
      "5\n",
      "6\n",
      "7\n",
      "8\n",
      "9\n",
      "10\n",
      "11\n",
      "12\n",
      "13\n",
      "14\n",
      "15\n",
      "16\n",
      "17\n",
      "18\n",
      "19\n",
      "20\n",
      "21\n",
      "22\n",
      "23\n",
      "24\n",
      "25\n",
      "26\n",
      "27\n",
      "28\n",
      "29\n",
      "30\n",
      "31\n",
      "32\n",
      "33\n",
      "34\n",
      "35\n",
      "36\n",
      "37\n",
      "38\n",
      "39\n",
      "40\n",
      "41\n",
      "42\n",
      "43\n",
      "44\n",
      "45\n",
      "46\n",
      "47\n",
      "48\n",
      "49\n",
      "50\n"
     ]
    }
   ],
   "source": [
    "import numpy as np\n",
    "import copy \n",
    "\n",
    "env = CoverageEnv(config['env_config'])\n",
    "env.seed(67)\n",
    "obs = env.reset()\n",
    "total_reward = 0\n",
    "Xs = []\n",
    "\n",
    "samples = []\n",
    "sample_iterations = 50\n",
    "frame_take_prob = 0.1\n",
    "\n",
    "while len(samples) < sample_iterations:\n",
    "    actions = trainer.compute_single_action(obs)\n",
    "    assert Xs[0].shape[0] == 1\n",
    "    cnn_feats = Xs[0].squeeze(0)\n",
    "    Xs = []\n",
    "    # assert cnn_feats.shape[0] == 1\n",
    "    n_agents = int(cnn_feats.shape[0])\n",
    "    assert n_agents == 4\n",
    "\n",
    "    if np.random.rand() <= frame_take_prob:\n",
    "        samples.append(copy.deepcopy({'obs': obs, 'actions': actions, 'feats': cnn_feats}))\n",
    "        print(len(samples))\n",
    "    \n",
    "    obs, reward, done, info = env.step(actions)\n",
    "    total_reward += reward\n",
    "    \n",
    "    if env.timestep > 153 or done:\n",
    "        if total_reward >= 130:\n",
    "            samples.append(copy.deepcopy({'obs': obs, 'actions': actions, 'feats': cnn_feats}))\n",
    "            print(len(samples))\n",
    "\n",
    "        obs = env.reset()\n",
    "        total_reward = 0\n",
    "\n",
    "import pickle\n",
    "with open('test_dataset.pkl', 'wb') as handle:\n",
    "    pickle.dump(samples, file=handle)\n"
   ]
  },
  {
   "cell_type": "code",
   "execution_count": 11,
   "metadata": {},
   "outputs": [],
   "source": [
    "ray.shutdown()"
   ]
  },
  {
   "cell_type": "code",
   "execution_count": 11,
   "metadata": {},
   "outputs": [],
   "source": [
    "high_no_comm = samples"
   ]
  },
  {
   "cell_type": "code",
   "execution_count": null,
   "metadata": {},
   "outputs": [
    {
     "name": "stderr",
     "output_type": "stream",
     "text": [
      "\u001b[2m\u001b[33m(raylet)\u001b[0m [2023-03-15 14:13:30,690 E 82452 5606139] (raylet) file_system_monitor.cc:105: /tmp/ray/session_2023-03-15_14-12-38_631215_82418 is over 95% full, available space: 18051653632; capacity: 494384795648. Object creation will fail if spilling is required.\n",
      "\u001b[2m\u001b[33m(raylet)\u001b[0m [2023-03-15 14:13:40,770 E 82452 5606139] (raylet) file_system_monitor.cc:105: /tmp/ray/session_2023-03-15_14-12-38_631215_82418 is over 95% full, available space: 18051547136; capacity: 494384795648. Object creation will fail if spilling is required.\n"
     ]
    }
   ],
   "source": [
    "low_comm = samples"
   ]
  },
  {
   "cell_type": "code",
   "execution_count": null,
   "metadata": {},
   "outputs": [],
   "source": [
    "samples_over_60 = samples"
   ]
  },
  {
   "cell_type": "code",
   "execution_count": null,
   "metadata": {},
   "outputs": [],
   "source": [
    "ray.shutdown()"
   ]
  },
  {
   "cell_type": "code",
   "execution_count": null,
   "metadata": {},
   "outputs": [],
   "source": [
    "max_frac = 0\n",
    "max_id = 0\n",
    "top_ids = []\n",
    "\n",
    "for id, sample in enumerate(samples_over_70):\n",
    "    coverage = sample['obs']['state'][:, :, 1]\n",
    "    covs = np.count_nonzero(coverage > 0)\n",
    "    if covs >= 75:\n",
    "        top_ids.append(id)\n",
    "        if covs > max_frac:\n",
    "            max_id = len(top_ids) - 1\n",
    "            max_frac = covs"
   ]
  },
  {
   "cell_type": "code",
   "execution_count": null,
   "metadata": {},
   "outputs": [],
   "source": [
    "max_frac = 0\n",
    "max_id = 0\n",
    "top_ids = []\n",
    "\n",
    "for id, sample in enumerate(samples_over_70):\n",
    "    coverage = sample['obs']['state'][:, :, 1]\n",
    "    covs = np.count_nonzero(coverage > 0)\n",
    "    if covs >= 80:\n",
    "        top_ids.append(id)\n",
    "        if covs > max_frac:\n",
    "            max_id = len(top_ids) - 1\n",
    "            max_frac = covs"
   ]
  },
  {
   "cell_type": "code",
   "execution_count": null,
   "metadata": {},
   "outputs": [
    {
     "data": {
      "text/plain": [
       "13"
      ]
     },
     "execution_count": 153,
     "metadata": {},
     "output_type": "execute_result"
    }
   ],
   "source": [
    "len(top_ids)"
   ]
  },
  {
   "cell_type": "code",
   "execution_count": null,
   "metadata": {},
   "outputs": [],
   "source": [
    "import colorsys\n",
    "def generate_color(agent_id):\n",
    "            # Scale the agent ID to the range [0, 1]\n",
    "            normalized_id = agent_id / 8 + 0.3\n",
    "            \n",
    "            # Use the HSV color space to generate a color\n",
    "            hue = normalized_id\n",
    "            saturation = 0.8\n",
    "            value = 0.8\n",
    "            r, g, b = colorsys.hsv_to_rgb(hue, saturation, value)\n",
    "            \n",
    "            # Convert the RGB color to a hex string\n",
    "            hex_color = '#{:02x}{:02x}{:02x}'.format(int(r * 255), int(g * 255), int(b * 255))\n",
    "            \n",
    "            return hex_color"
   ]
  },
  {
   "cell_type": "code",
   "execution_count": null,
   "metadata": {},
   "outputs": [],
   "source": [
    "def get_composite(sample):\n",
    "    coverage = sample['obs']['state'][:, :, 1]\n",
    "    maps = sample['obs']['state'][:, :, 0]\n",
    "    mapcov= coverage + 5 * maps\n",
    "    for agent in sample['obs']['agents']:\n",
    "        pos = agent['pos']\n",
    "        mapcov[pos[0]][pos[1]] = 6\n",
    "    return mapcov\n"
   ]
  },
  {
   "cell_type": "code",
   "execution_count": null,
   "metadata": {},
   "outputs": [],
   "source": [
    "ray.shutdown()"
   ]
  },
  {
   "cell_type": "code",
   "execution_count": null,
   "metadata": {},
   "outputs": [
    {
     "data": {
      "image/png": "[encoded data removed]",
      "text/plain": [
       "<Figure size 640x480 with 1 Axes>"
      ]
     },
     "metadata": {},
     "output_type": "display_data"
    }
   ],
   "source": [
    "import numpy as np\n",
    "import matplotlib.pyplot as plt\n",
    "from matplotlib.colors import ListedColormap\n",
    "\n",
    "# create a sample matrix\n",
    "matrix = get_composite(high_comm[11])\n",
    "\n",
    "# define a custom color map\n",
    "cmap = ListedColormap(['white', generate_color(1), generate_color(2), generate_color(3), generate_color(4), 'black', 'grey'])\n",
    "\n",
    "agents = [agent['pos'] for agent in high_comm[11]['obs']['agents']]\n",
    "fig, ax = plt.subplots()\n",
    "im = ax.imshow(matrix, cmap=cmap)\n",
    "\n",
    "for idx_1, agent_1 in enumerate(agents):\n",
    "    for idx_2, agent_2 in enumerate(agents):\n",
    "        if idx_1 < idx_2:\n",
    "            x_coords = [coord[1] for coord in [agent_1, agent_2]]\n",
    "            y_coords = [coord[0] for coord in [agent_1, agent_2]]\n",
    "            ax.plot(x_coords, y_coords, 'o--', color='cyan', linewidth=1, markersize=5)\n",
    "ax.set_xticks([])\n",
    "ax.set_yticks([])\n",
    "ax.set_xticklabels([])\n",
    "ax.set_yticklabels([])\n",
    "# show the plot\n",
    "plt.show()"
   ]
  },
  {
   "cell_type": "code",
   "execution_count": null,
   "metadata": {},
   "outputs": [],
   "source": [
    "my_sample = samples_over_70[top_ids[4]]"
   ]
  },
  {
   "cell_type": "code",
   "execution_count": null,
   "metadata": {},
   "outputs": [],
   "source": [
    "from interpreter import Interpreter\n",
    "\n",
    "agent_feats = my_sample['feats'][0]"
   ]
  },
  {
   "cell_type": "code",
   "execution_count": null,
   "metadata": {},
   "outputs": [],
   "source": [
    "local_world = my_sample['obs']['agents'][1]['map'][:, :, 0]\n",
    "local_coverage = my_sample['obs']['agents'][1]['map'][:, :, 1]\n",
    "local_robots = my_sample['obs']['agents'][1]['map'][:, :, 2]"
   ]
  },
  {
   "cell_type": "code",
   "execution_count": null,
   "metadata": {},
   "outputs": [],
   "source": []
  }
 ],
 "metadata": {
  "kernelspec": {
   "display_name": "Python 3.9.16 ('r255-python3.9')",
   "language": "python",
   "name": "python3"
  },
  "language_info": {
   "codemirror_mode": {
    "name": "ipython",
    "version": 3
   },
   "file_extension": ".py",
   "mimetype": "text/x-python",
   "name": "python",
   "nbconvert_exporter": "python",
   "pygments_lexer": "ipython3",
   "version": "3.9.16"
  },
  "orig_nbformat": 4,
  "vscode": {
   "interpreter": {
    "hash": "8ed05f8b92c56f0342ad25b8defc96f9252172144b900eb98b59946b838159dc"
   }
  }
 },
 "nbformat": 4,
 "nbformat_minor": 2
}
